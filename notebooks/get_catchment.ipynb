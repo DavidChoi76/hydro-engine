{
 "cells": [
  {
   "cell_type": "code",
   "execution_count": 1,
   "metadata": {
    "collapsed": true
   },
   "outputs": [],
   "source": [
    "%matplotlib inline\n",
    "\n",
    "import ee\n",
    "\n",
    "ee.Initialize()"
   ]
  },
  {
   "cell_type": "code",
   "execution_count": 2,
   "metadata": {
    "collapsed": true
   },
   "outputs": [],
   "source": [
    "def traverse_up(basins_source, basins_all):\n",
    "    filter_next_up = ee.Filter.equals(leftField='NEXT_DOWN', rightField='HYBAS_ID')\n",
    "    \n",
    "    join = ee.Join.inner('primary', 'secondary').apply(basins_all, basins_source, filter_next_up)\n",
    "  \n",
    "    existing = basins_source.aggregate_array('HYBAS_ID')\n",
    "    \n",
    "    def get_parent(feature):\n",
    "        return feature.get('primary')\n",
    "  \n",
    "    return join.map(get_parent)\n"
   ]
  },
  {
   "cell_type": "code",
   "execution_count": 3,
   "metadata": {
    "collapsed": false
   },
   "outputs": [],
   "source": [
    "basins = ee.FeatureCollection('ft:1IHRHUiWkgPXOzwNweeM89CzPYSfokjLlz7_0OTQl')"
   ]
  },
  {
   "cell_type": "code",
   "execution_count": 51,
   "metadata": {
    "collapsed": true
   },
   "outputs": [],
   "source": [
    "# define query bounds\n",
    "bounds = ee.Geometry.Polygon(\n",
    "        [[[-120.17703806492915, 39.39640731015444],\n",
    "          [-120.17695224301048, 39.36409996022785],\n",
    "          [-120.12708745495274, 39.36409996023226],\n",
    "          [-120.12751660052578, 39.39627465398903]]])"
   ]
  },
  {
   "cell_type": "code",
   "execution_count": 4,
   "metadata": {
    "collapsed": true
   },
   "outputs": [],
   "source": [
    "bounds = ee.Geometry.Polygon(\n",
    "    [[[5.995833, 4.387513999999975], \n",
    "      [7.704733999999998, 4.387513999999975],\n",
    "      [7.704733999999998,7.925567000000025],\n",
    "      [5.995833,7.925567000000025],\n",
    "      [5.995833,4.387513999999975]]])"
   ]
  },
  {
   "cell_type": "code",
   "execution_count": 5,
   "metadata": {
    "collapsed": true
   },
   "outputs": [],
   "source": [
    "basins_source = basins.filterBounds(bounds)"
   ]
  },
  {
   "cell_type": "code",
   "execution_count": 9,
   "metadata": {
    "collapsed": false
   },
   "outputs": [],
   "source": [
    "# find parent catchments\n",
    "parent = traverse_up(basins_source, basins)"
   ]
  },
  {
   "cell_type": "code",
   "execution_count": 8,
   "metadata": {
    "collapsed": false
   },
   "outputs": [
    {
     "name": "stdout",
     "output_type": "stream",
     "text": [
      "[1050909890.0, 1050909900.0, 1050892990.0, 1050893000.0, 1050870170.0, 1050870030.0, 1050909040.0, 1050908780.0]\n"
     ]
    }
   ],
   "source": [
    "print(parent.aggregate_array('HYBAS_ID').getInfo())"
   ]
  }
 ],
 "metadata": {
  "anaconda-cloud": {},
  "kernelspec": {
   "display_name": "Python [default]",
   "language": "python",
   "name": "python3"
  },
  "language_info": {
   "codemirror_mode": {
    "name": "ipython",
    "version": 3
   },
   "file_extension": ".py",
   "mimetype": "text/x-python",
   "name": "python",
   "nbconvert_exporter": "python",
   "pygments_lexer": "ipython3",
   "version": "3.5.2"
  }
 },
 "nbformat": 4,
 "nbformat_minor": 1
}
