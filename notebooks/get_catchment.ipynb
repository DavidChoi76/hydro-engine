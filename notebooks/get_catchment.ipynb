{
 "cells": [
  {
   "cell_type": "code",
   "execution_count": 72,
   "metadata": {
    "collapsed": true
   },
   "outputs": [],
   "source": [
    "%matplotlib inline\n",
    "\n",
    "import ee\n",
    "\n",
    "ee.Initialize()"
   ]
  },
  {
   "cell_type": "code",
   "execution_count": 73,
   "metadata": {
    "collapsed": true
   },
   "outputs": [],
   "source": [
    "# HydroBASINS level 5\n",
    "index = ee.FeatureCollection(\"users/gena/hybas_lev05_v1c_index\")\n",
    "basins = ee.FeatureCollection('ft:1IHRHUiWkgPXOzwNweeM89CzPYSfokjLlz7_0OTQl')"
   ]
  },
  {
   "cell_type": "code",
   "execution_count": 150,
   "metadata": {
    "collapsed": false
   },
   "outputs": [],
   "source": [
    "def get_upstream_catchments(basin_source):\n",
    "    hybas_id = ee.Number(basin_source.get('HYBAS_ID'))\n",
    "    upstream_ids = index.filter(ee.Filter.eq('hybas_id', hybas_id)).aggregate_array('parent_from')\n",
    "    upstream_basins = basins.filter(ee.Filter.inList('hybas_id', upstream_ids)).merge(ee.FeatureCollection([basin_source]))\n",
    "    \n",
    "    return ee.Feature(upstream_basins.geometry().dissolve(450)).copyProperties(basin_source)\n",
    "    \n",
    "    return upstream_basins"
   ]
  },
  {
   "cell_type": "code",
   "execution_count": 75,
   "metadata": {
    "collapsed": false
   },
   "outputs": [],
   "source": [
    "# define query bounds (Prosser Creek Reservoir)\n",
    "bounds = ee.Geometry.Polygon(\n",
    "        [[[-120.17703806492915, 39.39640731015444],\n",
    "          [-120.17695224301048, 39.36409996022785],\n",
    "          [-120.12708745495274, 39.36409996023226],\n",
    "          [-120.12751660052578, 39.39627465398903]]])"
   ]
  },
  {
   "cell_type": "code",
   "execution_count": 135,
   "metadata": {
    "collapsed": true
   },
   "outputs": [],
   "source": [
    "# define query bounds (Niger)\n",
    "bounds = ee.Geometry.Polygon(\n",
    "        [[[5.995833, 4.387513999999975], [7.704733999999998, 4.387513999999975],\n",
    "          [7.704733999999998,7.925567000000025],[5.995833,7.925567000000025],\n",
    "          [5.995833,4.387513999999975]]])"
   ]
  },
  {
   "cell_type": "code",
   "execution_count": 165,
   "metadata": {
    "collapsed": true
   },
   "outputs": [],
   "source": [
    "bounds = ee.Geometry.Point([6.70166015625, 7.079088026071719])"
   ]
  },
  {
   "cell_type": "code",
   "execution_count": 166,
   "metadata": {
    "collapsed": false
   },
   "outputs": [],
   "source": [
    "source_basins = basins.filterBounds(bounds)\n",
    "\n",
    "# get parent catchments\n",
    "upstream = source_basins.map(get_upstream_catchments)"
   ]
  },
  {
   "cell_type": "code",
   "execution_count": 167,
   "metadata": {
    "collapsed": false
   },
   "outputs": [
    {
     "name": "stdout",
     "output_type": "stream",
     "text": [
      "[1050022420.0]\n"
     ]
    }
   ],
   "source": [
    "print(ee.FeatureCollection(upstream.flatten()).aggregate_array('HYBAS_ID').getInfo())"
   ]
  },
  {
   "cell_type": "code",
   "execution_count": 168,
   "metadata": {
    "collapsed": false
   },
   "outputs": [
    {
     "name": "stdout",
     "output_type": "stream",
     "text": [
      "[1050683010, 1050635010, 1050741380, 1050694020, 1050641670, 1050888070, 1050874630, 1050839560, 1050742280, 1050722570, 1050635020, 1050870030, 1050736270, 1050874640, 1050682900, 1050669460, 1050827030, 1050736280, 1050870170, 1050669470, 1050722720, 1050827040, 1050680480, 1050668450, 1050887720, 1050761260, 1050515500, 1050741300, 1050761270, 1050689850, 1050515770, 1050677950, 1050892990, 1050513090, 1050909890, 1050846020, 1050677960, 1050893000, 1050742220, 1050909900, 1050715340, 1050737100, 1050513230, 1050747470, 1050652110, 1050690130, 1050696660, 1050577750, 1050737110, 1050760280, 1050668760, 1050715100, 1050577760, 1050710240, 1050760290, 1050603880, 1050755820, 1050710380, 1050908780, 1050680300, 1050514030, 1050839280, 1050909040, 1050694130, 1050603890, 1050513910, 1050755960, 1050845560, 1050747640, 1050641660, 1050651900, 1050696830]\n",
      "73\n"
     ]
    }
   ],
   "source": [
    "hybas_id = ee.Number(source_basins.first().get('HYBAS_ID'))\n",
    "upstream_ids = index.filter(ee.Filter.eq('hybas_id', hybas_id)).aggregate_array('parent_from')\n",
    "print(upstream_ids.getInfo())\n",
    "\n",
    "upstream_basins = basins.filter(ee.Filter.inList('HYBAS_ID', upstream_ids)).merge(ee.FeatureCollection([source_basins.first()]))\n",
    "print(upstream_basins.size().getInfo())"
   ]
  }
 ],
 "metadata": {
  "anaconda-cloud": {},
  "kernelspec": {
   "display_name": "Python [default]",
   "language": "python",
   "name": "python3"
  },
  "language_info": {
   "codemirror_mode": {
    "name": "ipython",
    "version": 3.0
   },
   "file_extension": ".py",
   "mimetype": "text/x-python",
   "name": "python",
   "nbconvert_exporter": "python",
   "pygments_lexer": "ipython3",
   "version": "3.5.2"
  }
 },
 "nbformat": 4,
 "nbformat_minor": 0
}